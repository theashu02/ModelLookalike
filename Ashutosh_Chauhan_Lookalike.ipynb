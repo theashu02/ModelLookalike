{
 "cells": [
  {
   "cell_type": "code",
   "execution_count": 13,
   "id": "181bd41b-e068-4ef2-ac9f-b775c77f7ad8",
   "metadata": {},
   "outputs": [
    {
     "name": "stdout",
     "output_type": "stream",
     "text": [
      "dataset succefully loaded\n"
     ]
    }
   ],
   "source": [
    "from sklearn.preprocessing import OneHotEncoder, MinMaxScaler\n",
    "from sklearn.metrics.pairwise import cosine_similarity\n",
    "import numpy as np\n",
    "import pandas as pd\n",
    "\n",
    "# Load datasets\n",
    "customers = pd.read_csv('DataFile/Customers.csv', parse_dates=['SignupDate'])\n",
    "products = pd.read_csv('DataFile/Products.csv')\n",
    "transactions = pd.read_csv('DataFile/Transactions.csv', parse_dates=['TransactionDate'])\n",
    "print(\"dataset succefully loaded\")"
   ]
  },
  {
   "cell_type": "code",
   "execution_count": 14,
   "id": "9a07c71d",
   "metadata": {},
   "outputs": [
    {
     "name": "stdout",
     "output_type": "stream",
     "text": [
      "dataset succefully merged\n"
     ]
    }
   ],
   "source": [
    "transactions_with_products = pd.merge(transactions, products, on='ProductID', how='inner')\n",
    "merged_data = pd.merge(customers, transactions_with_products, on='CustomerID', how='inner')\n",
    "print(\"dataset succefully merged\")"
   ]
  },
  {
   "cell_type": "code",
   "execution_count": 15,
   "id": "2813be94",
   "metadata": {},
   "outputs": [
    {
     "name": "stdout",
     "output_type": "stream",
     "text": [
      "Generate recommendations for the first 20 customers\n"
     ]
    }
   ],
   "source": [
    "# Filter for the first 20 customers\n",
    "target_customers = customers[customers['CustomerID'].isin([f\"C{str(i).zfill(4)}\" for i in range(1, 21)])]\n",
    "\n",
    "# Prepare feature set by merging datasets\n",
    "customer_features = merged_data.groupby('CustomerID').agg({\n",
    "    'TotalValue': 'sum',  \n",
    "    'TransactionID': 'count', \n",
    "    'Category': lambda x: ','.join(x),  \n",
    "    'Region': 'first', \n",
    "    'SignupDate': 'first'\n",
    "}).reset_index()\n",
    "\n",
    "encoder = OneHotEncoder()\n",
    "region_encoded = encoder.fit_transform(customer_features[['Region']]).toarray()\n",
    "\n",
    "customer_features['SignupDate'] = (customer_features['SignupDate'] - customer_features['SignupDate'].min()).dt.days\n",
    "\n",
    "categories = customer_features['Category'].str.get_dummies(sep=',')\n",
    "customer_features = customer_features.drop('Category', axis=1)\n",
    "feature_matrix = np.hstack([\n",
    "    customer_features[['TotalValue', 'TransactionID', 'SignupDate']].values, \n",
    "    region_encoded, \n",
    "    categories.values  \n",
    "])\n",
    "\n",
    "# Scale feature matrix\n",
    "scaler = MinMaxScaler()\n",
    "feature_matrix_scaled = scaler.fit_transform(feature_matrix)\n",
    "\n",
    "# Compute cosine similarity\n",
    "similarity_matrix = cosine_similarity(feature_matrix_scaled)\n",
    "\n",
    "# recommendations for the first 20 customers\n",
    "result = {}\n",
    "for idx, customer_id in enumerate(target_customers['CustomerID']):\n",
    "    scores = similarity_matrix[idx]\n",
    "    similar_customers = sorted(\n",
    "        [(other_id, score) for other_id, score in zip(customer_features['CustomerID'], scores) if other_id != customer_id],\n",
    "        key=lambda x: x[1],\n",
    "        reverse=True\n",
    "    )[:3]\n",
    "    result[customer_id] = similar_customers\n",
    "print(\"Generate recommendations for the first 20 customers\")"
   ]
  },
  {
   "cell_type": "code",
   "execution_count": 16,
   "id": "ef8a75a4",
   "metadata": {},
   "outputs": [
    {
     "name": "stdout",
     "output_type": "stream",
     "text": [
      "Lookalike.csv has been saved at Data/Ashutosh_Chauhan_Lookalike.csv\n"
     ]
    }
   ],
   "source": [
    "result = {}\n",
    "for idx, customer_id in enumerate(target_customers['CustomerID']):\n",
    "\n",
    "    scores = similarity_matrix[idx]\n",
    "    similar_customers = sorted(\n",
    "        [(other_id, score) for other_id, score in zip(customer_features['CustomerID'], scores) if other_id != customer_id],\n",
    "        key=lambda x: x[1],\n",
    "        reverse=True\n",
    "    )[:3]\n",
    "    result[customer_id] = similar_customers\n",
    "\n",
    "lookalike_df = pd.DataFrame({\n",
    "    \"CustomerID\": result.keys(),\n",
    "    \"Recommendations\": [str(rec) for rec in result.values()]\n",
    "})\n",
    "\n",
    "output_path = 'Data/Ashutosh_Chauhan_Lookalike.csv'\n",
    "lookalike_df.to_csv(output_path, index=False)\n",
    "print(f\"Lookalike.csv has been saved at {output_path}\")"
   ]
  },
  {
   "cell_type": "code",
   "execution_count": null,
   "id": "41e15b2a",
   "metadata": {},
   "outputs": [],
   "source": []
  }
 ],
 "metadata": {
  "kernelspec": {
   "display_name": ".venv",
   "language": "python",
   "name": "python3"
  },
  "language_info": {
   "codemirror_mode": {
    "name": "ipython",
    "version": 3
   },
   "file_extension": ".py",
   "mimetype": "text/x-python",
   "name": "python",
   "nbconvert_exporter": "python",
   "pygments_lexer": "ipython3",
   "version": "3.12.8"
  }
 },
 "nbformat": 4,
 "nbformat_minor": 5
}
