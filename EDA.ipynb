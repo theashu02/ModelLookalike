{
  "cells": [
    {
      "cell_type": "code",
      "execution_count": 1,
      "metadata": {
        "id": "0Lt3C5HtCjx_"
      },
      "outputs": [],
      "source": [
        "import pandas as pd\n",
        "import matplotlib.pyplot as plt\n",
        "import seaborn as sns\n",
        "from matplotlib.backends.backend_pdf import PdfPages\n",
        "\n",
        "# Function to load and merge datasets efficiently\n",
        "def load_data():\n",
        "    \"\"\"Load and merge datasets efficiently\"\"\"\n",
        "    customers = pd.read_csv('DataFile/Customers.csv', parse_dates=['SignupDate'])\n",
        "    products = pd.read_csv('DataFile/Products.csv')\n",
        "    transactions = pd.read_csv('DataFile/Transactions.csv', parse_dates=['TransactionDate'])\n",
        "\n",
        "    # Merge in one pipeline\n",
        "    return (transactions\n",
        "            .merge(customers, on='CustomerID', how='inner')\n",
        "            .merge(products, on='ProductID', suffixes=('_txn', '_prod')))"
      ]
    },
    {
      "cell_type": "code",
      "execution_count": 2,
      "metadata": {
        "colab": {
          "base_uri": "https://localhost:8080/"
        },
        "id": "6WaPDMZ4Cnek",
        "outputId": "2cc3847a-1d7b-4738-a0e3-9a4558494013"
      },
      "outputs": [
        {
          "name": "stdout",
          "output_type": "stream",
          "text": [
            "Transaction Value Distribution successfully completed\n",
            "Customer Distribution by Region successfully completed\n",
            "Top Performing Products successfully completed\n",
            "Monthly Trends successfully completed\n",
            "Regional Spending Analysis successfully completed\n",
            "EDA Report generated successfully and pdf saved to Data Folder.\n"
          ]
        }
      ],
      "source": [
        "def generate_plots(df, customers):\n",
        "    \"\"\"Generate all plots and return figure objects\"\"\"\n",
        "    figures = []\n",
        "\n",
        "    # Plot 1: Transaction Value Distribution\n",
        "    fig1, ax1 = plt.subplots(figsize=(10, 6))\n",
        "    sns.histplot(df['TotalValue'], bins=30, kde=True, ax=ax1)\n",
        "    ax1.set(title='Distribution of Total Transaction Values',\n",
        "           xlabel='Total Value', ylabel='Frequency')\n",
        "    figures.append(fig1)\n",
        "    print(\"Transaction Value Distribution successfully completed\")\n",
        "\n",
        "    # Plot 2: Customer Distribution by Region\n",
        "    fig2, ax2 = plt.subplots(figsize=(10, 6))\n",
        "    region_counts = customers['Region'].value_counts()\n",
        "    sns.barplot(x=region_counts.index, y=region_counts.values, ax=ax2)\n",
        "    ax2.set(title='Customer Distribution by Region',\n",
        "           xlabel='Region', ylabel='Number of Customers')\n",
        "    figures.append(fig2)\n",
        "    print(\"Customer Distribution by Region successfully completed\")\n",
        "\n",
        "    # Plot 3: Top Performing Products\n",
        "    top_products = df.groupby('ProductName')['TotalValue'].sum().nlargest(10)\n",
        "    fig3, ax3 = plt.subplots(figsize=(12, 6))\n",
        "    top_products.plot(kind='barh', color='teal', ax=ax3)\n",
        "    ax3.set(title='Top 10 Products by Total Revenue',\n",
        "           xlabel='Total Revenue', ylabel='Product')\n",
        "    figures.append(fig3)\n",
        "    print(\"Top Performing Products successfully completed\")\n",
        "\n",
        "    # Plot 4: Monthly Trends\n",
        "    df['Month'] = df['TransactionDate'].dt.to_period('M').astype(str)\n",
        "    monthly_trends = df.groupby('Month')['TotalValue'].sum()\n",
        "    fig4, ax4 = plt.subplots(figsize=(12, 6))\n",
        "    monthly_trends.plot(kind='line', marker='o', ax=ax4)\n",
        "    ax4.set(title='Monthly Transaction Value Trends',\n",
        "           xlabel='Month', ylabel='Total Revenue')\n",
        "    figures.append(fig4)\n",
        "    print(\"Monthly Trends successfully completed\")\n",
        "\n",
        "    # Plot 5: Regional Spending Analysis\n",
        "    region_stats = df.groupby('Region')['TotalValue'].agg(['mean', 'sum'])\n",
        "    fig5, (ax5a, ax5b) = plt.subplots(1, 2, figsize=(16, 6))\n",
        "    region_stats['mean'].plot(kind='bar', color='salmon', ax=ax5a)\n",
        "    region_stats['sum'].plot(kind='bar', color='lightseagreen', ax=ax5b)\n",
        "    ax5a.set(title='Average Order Value by Region', ylabel='Average Value')\n",
        "    ax5b.set(title='Total Revenue by Region', ylabel='Total Value')\n",
        "    figures.append(fig5)\n",
        "    print(\"Regional Spending Analysis successfully completed\")\n",
        "\n",
        "    return figures\n",
        "\n",
        "# Main function\n",
        "if __name__ == '__main__':\n",
        "    # Configure visual settings\n",
        "    sns.set_style('whitegrid')\n",
        "    plt.rcParams.update({'font.size': 12})\n",
        "\n",
        "    # Load and prepare data\n",
        "    customers = pd.read_csv('DataFile/Customers.csv', parse_dates=['SignupDate'])\n",
        "    merged_data = load_data()\n",
        "\n",
        "    # Generate all plots and save them in a PDF\n",
        "    with PdfPages('Data/EDA_Report.pdf') as pdf:\n",
        "        for fig in generate_plots(merged_data, customers):\n",
        "            pdf.savefig(fig)\n",
        "            plt.close(fig)\n",
        "\n",
        "        # Add statistics page\n",
        "        stats_page = plt.figure(figsize=(11, 8))\n",
        "        stats_text = [\n",
        "            \"Key Statistics:\",\n",
        "            f\"- Total Revenue: ${merged_data['TotalValue'].sum():,.2f}\",\n",
        "            f\"- Average Order Value: ${merged_data['TotalValue'].mean():.2f}\",\n",
        "            f\"- Total Customers: {merged_data['CustomerID'].nunique()}\",\n",
        "            f\"- Most Popular Category: {merged_data['Category'].mode()[0]}\",\n",
        "            f\"- Busiest Month: {merged_data['Month'].mode()[0]}\"\n",
        "        ]\n",
        "        stats_page.text(0.1, 0.5, '\\n'.join(stats_text), fontsize=14)\n",
        "        pdf.savefig(stats_page)\n",
        "        plt.close(stats_page)\n",
        "\n",
        "    print(\"EDA Report generated successfully and pdf saved to Data Folder.\")\n",
        "\n"
      ]
    },
    {
      "cell_type": "code",
      "execution_count": null,
      "metadata": {
        "id": "cd_jNAHdDZno"
      },
      "outputs": [],
      "source": []
    }
  ],
  "metadata": {
    "accelerator": "TPU",
    "colab": {
      "gpuType": "V28",
      "provenance": []
    },
    "kernelspec": {
      "display_name": ".venv",
      "language": "python",
      "name": "python3"
    },
    "language_info": {
      "codemirror_mode": {
        "name": "ipython",
        "version": 3
      },
      "file_extension": ".py",
      "mimetype": "text/x-python",
      "name": "python",
      "nbconvert_exporter": "python",
      "pygments_lexer": "ipython3",
      "version": "3.12.8"
    }
  },
  "nbformat": 4,
  "nbformat_minor": 0
}
